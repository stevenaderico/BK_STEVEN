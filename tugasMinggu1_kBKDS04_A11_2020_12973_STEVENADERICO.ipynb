{
  "nbformat": 4,
  "nbformat_minor": 0,
  "metadata": {
    "colab": {
      "provenance": []
    },
    "kernelspec": {
      "name": "python3",
      "display_name": "Python 3"
    },
    "language_info": {
      "name": "python"
    }
  },
  "cells": [
    {
      "cell_type": "code",
      "execution_count": null,
      "metadata": {
        "id": "pNG3OA2ivikA"
      },
      "outputs": [],
      "source": []
    },
    {
      "cell_type": "markdown",
      "source": [
        "1.Pengumpulan Data"
      ],
      "metadata": {
        "id": "kO52AjazwFnX"
      }
    },
    {
      "cell_type": "markdown",
      "source": [
        "2.Menelaah Data"
      ],
      "metadata": {
        "id": "b6b1R03CwKvA"
      }
    },
    {
      "cell_type": "code",
      "source": [
        "import pandas as pd\n",
        "import re\n",
        "import numpy as np\n",
        "import itertools"
      ],
      "metadata": {
        "id": "80leRPznwNoX"
      },
      "execution_count": null,
      "outputs": []
    },
    {
      "cell_type": "markdown",
      "source": [
        "3.Load Data"
      ],
      "metadata": {
        "id": "FFe0Aru5wUGz"
      }
    },
    {
      "cell_type": "code",
      "source": [
        "dir = 'hungarian.data'"
      ],
      "metadata": {
        "id": "bPWghHB7wXYq"
      },
      "execution_count": null,
      "outputs": []
    },
    {
      "cell_type": "code",
      "source": [
        "with open(dir, encoding='Latin') as file:\n",
        "  lines = [line.strip()for line in file]\n",
        "\n",
        "  lines[0:10]\n",
        "\n",
        "  ['1254 0 40 1 1 0 0',\n",
        "   '-9 2 140 0 289 -9 -9 -9',\n",
        "   '0 -9 -9 0 12 16 84 0',\n",
        "   '0 0 0 0 150 18 -9 7',\n",
        "   '172 86 200 110 140 86 0 0',\n",
        "   '0 -9 26 20 -9 -9 -9 -9',\n",
        "   '-9 -9 -9 -9 -9 -9 12',\n",
        "   '20 84 0 -9 -9 -9 -9 -9',\n",
        "   '-9 -9 -9 -9 -9 1 1 1',\n",
        "   '1 1 -9, -9. name']"
      ],
      "metadata": {
        "id": "cI0uE2xewevx"
      },
      "execution_count": null,
      "outputs": []
    },
    {
      "cell_type": "code",
      "source": [],
      "metadata": {
        "id": "oqEQ1HKsxB_g"
      },
      "execution_count": null,
      "outputs": []
    },
    {
      "cell_type": "code",
      "source": [
        "---------------------------------------------------------------------------\n",
        "TypeError                                 Traceback (most recent call last)\n",
        "<ipython-input-1-df574f2bb690> in <cell line: 1>()\n",
        "----> 1 with open(dir, encoding='Latin') as file:\n",
        "      2   lines = [line.strip()for line in file]\n",
        "      3\n",
        "      4   lines[0:10]\n",
        "      5\n",
        "\n",
        "TypeError: expected str, bytes or os.PathLike object, not builtin_function_or_method"
      ],
      "metadata": {
        "id": "yq97xCvhw68e"
      },
      "execution_count": null,
      "outputs": []
    },
    {
      "cell_type": "code",
      "source": [
        "data = itertools.takewhile(\n",
        "    lambda x: len(x) == 76,\n",
        "    (' '.join(lines[i:(i + 10)]).split() for i in range(0, len(lines), 10))\n",
        ")\n",
        "\n",
        "df = pd.DataFrame.from_records(data)\n",
        "\n",
        "df.head()\n",
        "\n",
        "0 1 2 3 4 5 6 7 8 9 ... 66 67 68 69 70 71 72 73 74 75\n",
        "0 1254 0 40 1 1 0 0 -9 2 140 ... -9 -9 1 1 1 1 1 -9. -9. name\n",
        "1 1255 0 49 0 1 0 0 -9 3 160 ... -9 -9 1 1 1 1 1 -9. -9. name\n",
        "2 1256 0 37 1 1 0 0 -9 2 130 ... -9 -9 1 1 1 1 1 -9. -9. name\n",
        "3 1257 0 48 0 1 1 1 -9 4 138 ... 2 -9 1 1 1 1 1 -9. -9. name\n",
        "4 1258 0 54 1 1 0 1 -9 3 150 ... 1 -9 1 1 1 1 1 -9. -9. name\n",
        "5 rows×76 columns"
      ],
      "metadata": {
        "id": "HPJjBWxuxFaA"
      },
      "execution_count": null,
      "outputs": []
    },
    {
      "cell_type": "markdown",
      "source": [
        "menampilkan informasi dari file dataset yang sudah dimasukan kedalam dataframe\n"
      ],
      "metadata": {
        "id": "W3qU6m3lxZpp"
      }
    },
    {
      "cell_type": "code",
      "source": [
        "df.info()\n",
        "33 33 294 non-null object\n",
        "34 34 294 non-null object\n",
        "35 35 294 non-null object\n",
        "36 36 294 non-null object\n",
        "37 37 294 non-null object\n",
        "38 38 294 non-null object\n",
        "39 39 294 non-null object\n",
        "40 40 294 non-null object\n",
        "41 41 294 non-null object\n",
        "42 42 294 non-null object\n",
        "43 43 294 non-null object\n",
        "44 44 294 non-null object\n",
        "45 45 294 non-null object\n",
        "46 46 294 non-null object\n",
        "47 47 294 non-null object\n",
        "48 48 294 non-null object\n",
        "49 49 294 non-null object\n",
        "50 50 294 non-null object\n",
        "51 51 294 non-null object\n",
        "52 52 294 non-null object\n",
        "53 53 294 non-null object\n",
        "54 54 294 non-null object\n",
        "55 55 294 non-null object\n",
        "56 56 294 non-null object\n",
        "57 57 294 non-null object\n",
        "58 58 294 non-null object\n",
        "59 59 294 non-null object\n",
        "60 60 294 non-null object\n",
        "61 61 294 non-null object\n",
        "62 62 294 non-null object\n",
        "63 63 294 non-null object\n",
        "64 64 294 non-null object\n",
        "65 65 294 non-null object\n",
        "66 66 294 non-null object\n",
        "67 67 294 non-null object\n",
        "68 68 294 non-null object\n",
        "69 69 294 non-null object\n",
        "70 70 294 non-null object\n",
        "71 71 294 non-null object\n",
        "72 72 294 non-null object\n",
        "73 73 294 non-null object\n",
        "74 74 294 non-null object\n",
        "75 75 294 non-null object\n",
        "dtypes: object(76)\n"
      ],
      "metadata": {
        "id": "_ARaCzX3xPjh"
      },
      "execution_count": null,
      "outputs": []
    },
    {
      "cell_type": "markdown",
      "source": [
        "pada kondisi dataset yang kita miliki terdapat kondisi khusus yang dimana sebelum memasuki tahap validasi data untuk tipe data objek atau string perlu dilakukan penghapusan fitur dikarenakan pada dataset ini nilai null disimbolkan dengan angka -9.0"
      ],
      "metadata": {
        "id": "ZuhMfh-uxpTv"
      }
    },
    {
      "cell_type": "code",
      "source": [
        "df = df.iloc[:,:-1]\n",
        "df = df.drop(df.columns[0], axis=1)"
      ],
      "metadata": {
        "id": "RopgQTISyQO9"
      },
      "execution_count": null,
      "outputs": []
    },
    {
      "cell_type": "markdown",
      "source": [
        "mengubah tipe data file dataset menjadi data float sesuai dengan nilai null yaitu -9.0"
      ],
      "metadata": {
        "id": "JSshqh2jyWPl"
      }
    },
    {
      "cell_type": "code",
      "source": [
        "df = df.astype(float)\n",
        "\n",
        "\n",
        "df.info()\n",
        "\n",
        "    <class 'pandas.core.frame.DataFrame'>\n",
        "RangeIndex: 294 entries, 0 to 293\n",
        "Data columns (total 74 columns):\n",
        "# Column Non-Null Count Dtype\n",
        "--- ------ -------------- -----\n",
        "0 1 294 non-null float64\n",
        "1 2 294 non-null float64\n",
        "2 3 294 non-null float64\n",
        "3 4 294 non-null float64\n",
        "4 5 294 non-null float64\n",
        "5 6 294 non-null float64\n",
        "6 7 294 non-null float64\n",
        "7 8 294 non-null float64\n",
        "8 9 294 non-null float64\n",
        "9 10 294 non-null float64\n",
        "10 11 294 non-null float64\n",
        "11 12 294 non-null float64\n",
        "12 13 294 non-null float64\n",
        "13 14 294 non-null float64\n",
        "14 15 294 non-null float64\n",
        "15 16 294 non-null float64\n",
        "16 17 294 non-null float64\n",
        "17 18 294 non-null float64\n",
        "18 19 294 non-null float64\n",
        "19 20 294 non-null float64\n",
        "20 21 294 non-null float64\n",
        "21 22 294 non-null float64\n",
        "22 23 294 non-null float64\n",
        "23 24 294 non-null float64\n",
        "24 25 294 non-null float64\n",
        "25 26 294 non-null float64\n",
        "26 27 294 non-null float64\n",
        "27 28 294 non-null float64\n",
        "28 29 294 non-null float64\n",
        "29 30 294 non-null float64\n",
        "30 31 294 non-null float64\n",
        "31 32 294 non-null float64\n",
        "32 33 294 non-null float64\n",
        "33 34 294 non-null float64\n",
        "34 35 294 non-null float64\n",
        "35 36 294 non-null float64\n",
        "36 37 294 non-null float64\n",
        "37 38 294 non-null float64\n",
        "38 39 294 non-null float64\n",
        "39 40 294 non-null float64\n",
        "40 41 294 non-null float64\n",
        "41 42 294 non-null float64\n",
        "42 43 294 non-null float64\n",
        "43 44 294 non-null float64\n",
        "44 45 294 non-null float64\n",
        "45 46 294 non-null float64\n",
        "46 47 294 non-null float64\n",
        "47 48 294 non-null float64\n",
        "48 49 294 non-null float64\n",
        "49 50 294 non-null float64\n",
        "50 51 294 non-null float64\n",
        "51 52 294 non-null float64\n",
        "52 53 294 non-null float64\n",
        "\n"
      ],
      "metadata": {
        "id": "bA9yGGe8yeik"
      },
      "execution_count": null,
      "outputs": []
    },
    {
      "cell_type": "markdown",
      "source": [
        "3.Validasi Data\n",
        "\n",
        "Pada tahap ini bertujuan untuk mengetahui dan memahami isi dari dataset agar dapat dilakukan peanganan sesuai dengan kondisinya mengubah nilai -9.0 menjadi nilai null value sesuai dengan deskripsi dataset"
      ],
      "metadata": {
        "id": "SNDSOJCEyzQ4"
      }
    },
    {
      "cell_type": "code",
      "source": [
        "df.replace(-9.0, np.nan, inplace=True)"
      ],
      "metadata": {
        "id": "mQHDpgFBzJjM"
      },
      "execution_count": null,
      "outputs": []
    },
    {
      "cell_type": "markdown",
      "source": [
        "menghitung jumlah nilai null value"
      ],
      "metadata": {
        "id": "WJv8zXqWzNH4"
      }
    },
    {
      "cell_type": "code",
      "source": [
        "df.isnull().sum()\n",
        "1 0\n",
        "2 0\n",
        "3 0\n",
        "4 0\n",
        "5 0\n",
        "...\n",
        "70 0\n",
        "71 0\n",
        "72 0\n",
        "73 266\n",
        "74 294\n",
        "Length: 74, dtype: int64"
      ],
      "metadata": {
        "id": "JNKonOfGzQ8T"
      },
      "execution_count": null,
      "outputs": []
    },
    {
      "cell_type": "code",
      "source": [
        "df.head()\n",
        "\n",
        "        1 2 3 4 5 6 7 8 9 10 ... 65 66 67 68 69 70 71 72 73 74\n",
        "0 0.0 40.0 1.0 1.0 0.0 0.0 NaN 2.0 140.0 0.0 ... NaN NaN NaN 1.0 1.0 1.0 1.0 1.0 NaN NaN\n",
        "1 0.0 49.0 0.0 1.0 0.0 0.0 NaN 3.0 160.0 1.0 ... NaN NaN NaN 1.0 1.0 1.0 1.0 1.0 NaN NaN\n",
        "2 0.0 37.0 1.0 1.0 0.0 0.0 NaN 2.0 130.0 0.0 ... NaN NaN NaN 1.0 1.0 1.0 1.0 1.0 NaN NaN\n",
        "3 0.0 48.0 0.0 1.0 1.0 1.0 NaN 4.0 138.0 0.0 ... NaN 2.0 NaN 1.0 1.0 1.0 1.0 1.0 NaN NaN\n",
        "4 0.0 54.0 1.0 1.0 0.0 1.0 NaN 3.0 150.0 0.0 ... NaN 1.0 NaN 1.0 1.0 1.0 1.0 1.0 NaN NaN\n",
        "5 rows × 74 columns"
      ],
      "metadata": {
        "id": "12grMOOMzUcA"
      },
      "execution_count": null,
      "outputs": []
    },
    {
      "cell_type": "code",
      "source": [
        "df.info()"
      ],
      "metadata": {
        "id": "jNgtdkmBzXZ_"
      },
      "execution_count": null,
      "outputs": []
    },
    {
      "cell_type": "code",
      "source": [
        "16 17 1 non-null float64\n",
        "17 18 293 non-null float64\n",
        "18 19 294 non-null float64\n",
        "19 20 294 non-null float64\n",
        "20 21 294 non-null float64\n",
        "21 22 293 non-null float64\n",
        "22 23 292 non-null float64\n",
        "23 24 293 non-null float64\n",
        "24 25 293 non-null float64\n",
        "25 26 293 non-null float64\n",
        "26 27 285 non-null float64\n",
        "27 28 292 non-null float64\n",
        "28 29 104 non-null float64\n",
        "29 30 292 non-null float64\n",
        "30 31 293 non-null float64\n",
        "31 32 293 non-null float64\n",
        "32 33 293 non-null float64\n",
        "33 34 293 non-null float64\n",
        "34 35 293 non-null float64\n",
        "35 36 293 non-null float64\n",
        "36 37 293 non-null float64\n",
        "37 38 292 non-null float64\n",
        "38 39 294 non-null float64\n",
        "39 40 104 non-null float64\n",
        "40 41 293 non-null float64\n",
        "41 42 294 non-null float64\n",
        "42 43 4 non-null float64\n",
        "43 44 0 non-null float64\n",
        "44 45 0 non-null float64\n",
        "45 46 0 non-null float64\n",
        "46 47 3 non-null float64\n",
        "47 48 0 non-null float64\n",
        "48 49 2 non-null float64\n",
        "49 50 28 non-null float64\n",
        "50 51 27 non-null float64\n",
        "51 52 17 non-null float64\n",
        "52 53 0 non-null float64\n",
        "53 54 294 non-null float64\n",
        "54 55 294 non-null float64\n",
        "55 56 294 non-null float64\n",
        "56 57 294 non-null float64\n",
        "57 58 19 non-null float64\n",
        "58 59 58 non-null float64\n",
        "59 60 48 non-null float64\n",
        "60 61 18 non-null float64\n",
        "61 62 59 non-null float64\n",
        "62 63 9 non-null float64\n",
        "63 64 23 non-null float64\n",
        "64 65 5 non-null float64\n",
        "65 66 50 non-null float64\n",
        "66 67 25 non-null float64\n",
        "67 68 294 non-null float64\n",
        "68 69 294 non-null float64\n",
        "69 70 294 non-null float64\n",
        "70 71 294 non-null float64\n",
        "71 72 294 non-null float64\n",
        "72 73 28 non-null float64\n",
        "73 74 0 non-null float64\n",
        "dtypes: float64(74)"
      ],
      "metadata": {
        "id": "Xcxdcm17zZre"
      },
      "execution_count": null,
      "outputs": []
    },
    {
      "cell_type": "markdown",
      "source": [
        "4 Menentukan Objek Data\n",
        "Memilih 14 fitur yang akan digunakan sesuai dengan deskripsi dataset"
      ],
      "metadata": {
        "id": "Yb6nrwsnzeKc"
      }
    },
    {
      "cell_type": "code",
      "source": [
        "df_selected = df.iloc[:, [1, 2, 7,8,10,14,17,30,36,38,39,42,49,56]]\n",
        "\n",
        "df_selected.head()\n",
        "\n",
        "2 3 8 9 11 15 18 31 37 39 40 43 50 57\n",
        "0 40.0 1.0 2.0 140.0 289.0 0.0 0.0 172.0 0.0 0.0 NaN NaN NaN 0.0\n",
        "1 49.0 0.0 3.0 160.0 180.0 0.0 0.0 156.0 0.0 1.0 2.0 NaN NaN 1.0\n",
        "2 37.0 1.0 2.0 130.0 283.0 0.0 1.0 98.0 0.0 0.0 NaN NaN NaN 0.0\n",
        "3 48.0 0.0 4.0 138.0 214.0 0.0 0.0 108.0 1.0 1.5 2.0 NaN NaN 3.0\n",
        "4 54.0 1.0 3.0 150.0 NaN 0.0 0.0 122.0 0.0 0.0 NaN NaN NaN 0.0"
      ],
      "metadata": {
        "id": "l-bikgQMzozh"
      },
      "execution_count": null,
      "outputs": []
    },
    {
      "cell_type": "code",
      "source": [
        "df_selected.info()\n",
        "\n",
        "<class 'pandas.core.frame.DataFrame'>\n",
        "RangeIndex: 294 entries, 0 to 293\n",
        "Data columns (total 14 columns):\n",
        "# Column Non-Null Count Dtype\n",
        "--- ------ -------------- -----\n",
        "0 2 294 non-null float64\n",
        "1 3 294 non-null float64\n",
        "2 8 294 non-null float64\n",
        "3 9 293 non-null float64\n",
        "4 11 271 non-null float64\n",
        "5 15 286 non-null float64\n",
        "6 18 293 non-null float64\n",
        "7 31 293 non-null float64\n",
        "8 37 293 non-null float64\n",
        "9 39 294 non-null float64\n",
        "10 40 104 non-null float64\n",
        "11 43 4 non-null float64\n",
        "12 50 28 non-null float64\n",
        "13 57 294 non-null float64\n",
        "dtypes: float64(14)\n",
        "memory usage: 32.3 KB\n"
      ],
      "metadata": {
        "id": "sAVpoIGoztGP"
      },
      "execution_count": null,
      "outputs": []
    },
    {
      "cell_type": "markdown",
      "source": [
        "mengganti nama kolom sesuai dengan 14 nama kolom yang ada pada deskripsi dataset"
      ],
      "metadata": {
        "id": "1d0evZpozx73"
      }
    },
    {
      "cell_type": "code",
      "source": [
        "column_mapping = {\n",
        "2: 'age',\n",
        "3: 'sex',\n",
        "8: 'cp',\n",
        "9: 'trestbps',\n",
        "11: 'chol',\n",
        "15: 'fbs',\n",
        "18: 'restecg',\n",
        "31: 'thalach',\n",
        "37: 'exang',\n",
        "39: 'oldpeak',\n",
        "40: 'slope',\n",
        "43: 'ca',\n",
        "50: 'thal',\n",
        "57: 'target'\n",
        "}\n",
        "df_selected.rename(columns=column_mapping, inplace=True)\n",
        "\n",
        "df_selected.info()\n",
        "<class 'pandas.core.frame.DataFrame'>\n",
        "RangeIndex: 294 entries, 0 to 293\n",
        "Data columns (total 14 columns):\n",
        "# Column Non-Null Count Dtype\n",
        "--- ------ -------------- -----\n",
        "0 2 294 non-null float64\n",
        "1 3 294 non-null float64\n",
        "2 8 294 non-null float64\n",
        "3 9 293 non-null float64\n",
        "4 11 271 non-null float64\n",
        "5 15 286 non-null float64\n",
        "6 18 293 non-null float64\n",
        "7 31 293 non-null float64\n",
        "8 37 293 non-null float64\n",
        "9 39 294 non-null float64\n",
        "10 40 104 non-null float64\n",
        "11 43 4 non-null float64\n",
        "12 50 28 non-null float64\n",
        "13 57 294 non-null float64\n",
        "dtypes: float64(14)\n",
        "memory usage: 32.3 KB\n",
        "mengganti nama kolom sesuai dengan 14 nama kolom yang ada pada deskripsi dataset\n",
        "column_mapping = {\n",
        "2: 'age',\n",
        "3: 'sex',\n",
        "8: 'cp',\n",
        "9: 'trestbps',\n",
        "11: 'chol',\n",
        "15: 'fbs',\n",
        "18: 'restecg',\n",
        "31: 'thalach',\n",
        "37: 'exang',\n",
        "39: 'oldpeak',\n",
        "40: 'slope',\n",
        "43: 'ca',\n",
        "50: 'thal',\n",
        "57: 'target'\n",
        "}\n",
        "\n",
        "df_selected.rename(columns=column_mapping, inplace=True)\n",
        "\n",
        "\n",
        "     <ipython-input-16-edcc9cd19c95>:18: SettingWithCopyWarning:\n",
        "     A value is trying to be set on a copy of a slice from a DataFrame\n",
        "\n",
        "     See the caveats in the documentation: https://pandas.pydata.org/pandas-docs/stable/user_guide/indexing.html#returning-a-view-versus-a-copy\n",
        "       df_selected.rename(columns=column_mapping, inplace=True)"
      ],
      "metadata": {
        "id": "8Pf9foCcz471"
      },
      "execution_count": null,
      "outputs": []
    },
    {
      "cell_type": "code",
      "source": [
        "df_selected.info()\n",
        "\n",
        "     <class 'pandas.core.frame.DataFrame'>\n",
        "     RangeIndex: 294 entries, 0 to 293\n",
        "     Data columns (total 14 columns):\n",
        "      # Column Non-Null Count Dtype\n",
        "     --- ------ -------------- -----\n",
        "      0 age 294 non-null float64\n",
        "      1 sex 294 non-null float64\n",
        "      2 cp 294 non-null float64\n",
        "      3 trestbps 293 non-null float64\n",
        "      4 chol 271 non-null float64\n",
        "      5 fbs 286 non-null float64\n",
        "      6 restecg 293 non-null float64\n",
        "      7 thalach 293 non-null float64\n",
        "      8 exang 293 non-null float64\n",
        "      9 oldpeak 294 non-null float64\n",
        "      10 slope 104 non-null float64\n",
        "      11 ca 4 non-null float64\n",
        "      12 thal 28 non-null float64\n",
        "      13 target 294 non-null float64\n",
        "     dtypes: float64(14)\n",
        "     memory usage: 32.3 KB"
      ],
      "metadata": {
        "id": "nE4FUW5i0B-r"
      },
      "execution_count": null,
      "outputs": []
    },
    {
      "cell_type": "markdown",
      "source": [
        "menghitung jumlah fitur pada dataset"
      ],
      "metadata": {
        "id": "2ZP7NTzn0Gwu"
      }
    },
    {
      "cell_type": "code",
      "source": [
        "df_selected.value_counts()\n",
        "\n",
        "     age sex cp trestbps chol fbs restecg thalach exang oldpeak slope ca thal target\n",
        "     47.0 1.0 4.0 150.0 226.0 0.0 0.0 98.0 1.0 1.5 2.0 0.0 7.0 1.0 1\n",
        "     dtype: int6"
      ],
      "metadata": {
        "id": "Bp5vTGDG0U3J"
      },
      "execution_count": null,
      "outputs": []
    },
    {
      "cell_type": "markdown",
      "source": [
        "5. Membersihkan Data"
      ],
      "metadata": {
        "id": "cZu4oOP90YVO"
      }
    },
    {
      "cell_type": "code",
      "source": [
        "Sebelum melakukan pemodelan dilakukan pembersihan data agar model yang dihasilkan lebih akurat\n",
        "menghitung jumlah null values yang ada diddalam dataset\n",
        "\n",
        "df_selected.isnull().sum()\n",
        "\n",
        "     age 0\n",
        "     sex 0\n",
        "     cp 0\n",
        "     trestbps 1\n",
        "     chol 23\n",
        "     fbs 8\n",
        "     restecg 1\n",
        "     thalach 1\n",
        "     exang 1\n",
        "     oldpeak 0\n",
        "     slope 190\n",
        "     ca 290\n",
        "     thal 266\n",
        "     target 0\n",
        "     dtype: int64\n",
        "\n",
        "\n"
      ],
      "metadata": {
        "id": "txph-Nio0cOs"
      },
      "execution_count": null,
      "outputs": []
    },
    {
      "cell_type": "markdown",
      "source": [
        "Berdasarkan output kode program diatas ada beberapa fitur yang hampir 90% datanya memiliki nilai null sehingga perlu dilakukan penghapusan fitur menggunakan fungsi drop"
      ],
      "metadata": {
        "id": "JeGVpEUH0gwh"
      }
    },
    {
      "cell_type": "code",
      "source": [
        "columns_to_drop = ['ca', 'slope','thal']\n",
        "df_selected = df_selected.drop(columns_to_drop, axis=1)\n",
        "\n",
        "\n",
        "df_selected.isnull().sum()\n",
        "\n",
        "age 0\n",
        "sex 0\n",
        "cp 0\n",
        "trestbps 1\n",
        "chol 23\n",
        "fbs 8\n",
        "restecg 1\n",
        "thalach 1\n",
        "exang 1\n",
        "oldpeak 0\n",
        "target 0\n",
        "dtype: int64\n",
        "\n",
        "Dikarenakan masih ada nilai null dibeberapa kolom  fitur maka akan dilakukan pengisian nilai null menggunakan nilai mean di setiaap kolomnya\n",
        "\n",
        "meanTBPS = df_selected['trestbps'].dropna()\n",
        "meanChol = df_selected['chol'].dropna()\n",
        "meanfbs = df_selected['fbs'].dropna()\n",
        "meanRestCG = df_selected['restecg'].dropna()\n",
        "meanthalach = df_selected['thalach'].dropna()\n",
        "meanexang = df_selected['exang'].dropna()\n",
        "\n",
        "\n",
        "meanTBPS = meanTBPS.astype(float)\n",
        "meanChol = meanChol.astype(float)\n",
        "meanfbs = meanfbs.astype(float)\n",
        "meanthalach = meanthalach.astype(float)\n",
        "meanexang = meanexang.astype(float)\n",
        "meanRestCG = meanRestCG.astype(float)\n",
        "\n",
        "\n",
        "meanTBPS = round(meanTBPS.mean())\n",
        "meanChol = round(meanChol.mean())\n",
        "meanfbs = round(meanfbs.mean())\n",
        "meanthalach = round(meanthalach.mean())\n",
        "meanexang = round(meanexang.mean())\n",
        "meanRestCG = round(meanRestCG.mean())\n",
        "\n",
        "mengubah nilai null menjadi nilai mean yang sudah ditentukan sebelumnya\n",
        "\n",
        "\n",
        "fill_values = {'trestbps': meanTBPS, 'chol': meanChol, 'fbs': meanfbs,\n",
        "              'thalach':meanthalach,'exang':meanexang,'restecg':meanRestCG}\n",
        "dfClean = df_selected.fillna(value=fill_values)\n",
        "\n",
        "\n",
        "dfClean.info()\n",
        "\n",
        "<class 'pandas.core.frame.DataFrame'>\n",
        "RangeIndex: 294 entries, 0 to 293\n",
        "Data columns (total 11 columns):\n",
        "# Column Non-Null Count Dtype\n",
        "--- ------ -------------- -----\n",
        "0 age 294 non-null float64\n",
        "1 sex 294 non-null float64\n",
        "2 cp 294 non-null float64\n",
        "3 trestbps 294 non-null float64\n",
        "4 chol 294 non-null float64\n",
        "5 fbs 294 non-null float64\n",
        "6 restecg 294 non-null float64\n",
        "7 thalach 294 non-null float64\n",
        "8 exang 294 non-null float64\n",
        "9 oldpeak 294 non-null float64\n",
        "10 target 294 non-null float64\n",
        "dtypes: float64(11)\n",
        "memory usage: 25.4 KB\n",
        "\n",
        "dfClean.isnull().sum()\n",
        "\n",
        "age 0\n",
        "sex 0\n",
        "cp 0\n",
        "trestbps 0\n",
        "chol 0\n",
        "fbs 0\n",
        "restecg 0\n",
        "thalach 0\n",
        "exang 0\n",
        "oldpeak 0\n",
        "target 0\n",
        "dtype: int64\n",
        "\n",
        "melakukan pengecekan terhadap duplikasi data\n",
        "\n",
        "duplicate_rows = dfClean.duplicated()\n",
        "dfClean[duplicate_rows]\n",
        "\n",
        "age sex cp trestbps chol fbs restecg thalach exang oldpeak target\n",
        "163 49.0 0.0 2.0 110.0 251.0 0.0 0.0 160.0 0.0 0.0 0.0\n",
        "\n",
        "print(\"All Duplicate Rows:\")\n",
        "dfClean[dfClean.duplicated(keep=False)]\n",
        "\n",
        "All Duplicate Rows:\n",
        "age sex cp trestbps chol fbs restecg thalach exang oldpeak target\n",
        "90 49.0 0.0 2.0 110.0 251.0 0.0 0.0 160.0 0.0 0.0 0.0\n",
        "163 49.0 0.0 2.0 110.0 251.0 0.0 0.0 160.0 0.0 0.0 0.\n",
        "\n",
        "Menghapus data yang memiliki duplikat\n",
        "\n",
        "fClean = dfClean.drop_duplicates()\n",
        "print(\"All Duplicate Rows:\")\n",
        "dfClean[dfClean.duplicated(keep=False)]\n",
        "All Duplcate Rows:\n",
        "age sex cp trestbps chol fbs restecg thalach exang oldpeak target\n",
        "dfclean.head()\n",
        "\n",
        "age sex cp trestbps chol fbs restecg thalach exang oldpeak target\n",
        "0 40.0 1.0 2.0 140.0 289.0 0.0 0.0 172.0 0.0 0.0 0.0\n",
        "1 49.0 0.0 3.0 160.0 180.0 0.0 0.0 156.0 0.0 1.0 1.0\n",
        "2 37.0 1.0 2.0 130.0 283.0 0.0 1.0 98.0 0.0 0.0 0.0\n",
        "3 48.0 0.0 4.0 138.0 214.0 0.0 0.0 108.0 1.0 1.5 3.0\n",
        "4 54.0 1.0 3.0 150.0 251.0 0.0 0.0 122.0 0.0 0.0 0.0\n",
        "\n",
        "dfClean['target'].value_counts()\n",
        "0.0 187\n",
        "1.0 37\n",
        "3.0 28\n",
        "2.0 26\n",
        "4.0 15\n",
        "Name: target, dtype: int64\n",
        "\n",
        "import seaborn as sns\n",
        "import matplotlib.pyplot as plt\n",
        "\n",
        "Mencari korelasi antar fitur\n",
        "\n",
        "dfclean.corr()\n",
        "\n",
        "age sex cp trestbps chol fbs restecg thalach exang oldpeak target\n",
        "age 1.000000 0.014516 0.146616 0.246571 0.087101 0.181130 0.050672 -0.460514 0.239223 0.178172 0.210429\n",
        "sex 0.014516 1.000000 0.245769 0.082064 0.027695 0.044372 -0.108656 -0.106959 0.154925 0.115959 0.220732\n",
        "cp 0.146616 0.245769 1.000000 0.081293 0.134697 0.031930 -0.016372 -0.367819 0.494674 0.351735 0.427536\n",
        "trestbps 0.246571 0.082064 0.081293 1.000000 0.080818 0.096222 0.011256 -0.181824 0.211507 0.204000 0.214898\n",
        "chol 0.087101 0.027695 0.134697 0.080818 1.000000 0.107686 0.048081 -0.122038 0.161055 0.106743 0.256027\n",
        "fbs 0.181130 0.044372 0.031930 0.096222 0.107686 1.000000 0.047988 -0.069722 0.115503 0.063179 0.154319\n",
        "restecg 0.050672 -0.108656 -0.016372 0.011256 0.048081 0.047988 1.000000 0.006084 0.041290 0.042193 0.042643\n",
        "thalach -0.460514 -0.106959 -0.367819 -0.181824 -0.122038 -0.069722 0.006084 1.000000 -0.400508 -0.300458 -0.367525\n",
        "exang 0.239223 0.154925 0.494674 0.211507 0.161055 0.115503 0.041290 -0.400508 1.000000 0.624965 0.571710\n",
        "oldpeak 0.178172 0.115959 0.351735 0.204000 0.106743 0.063179 0.042193 -0.300458 0.624965 1.000000 0.580732\n",
        "target 0.210429 0.220732 0.427536 0.214898 0.256027 0.154319 0.042643 -0.367525 0.571710 0.580732 1.000000\n",
        "\n",
        "cor_mat=dfClean.corr()\n",
        "fig,ax=plt.subplots(figsize=(15,10))\n",
        "sns.heatmap(cor_mat,annot=True,linewidths=0.5,fmt=\".3f\")\n",
        "\n",
        "<Axes: >\n",
        "\n"
      ],
      "metadata": {
        "id": "nPMozyzU009f"
      },
      "execution_count": null,
      "outputs": []
    }
  ]
}